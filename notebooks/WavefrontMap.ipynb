{
 "cells": [
  {
   "cell_type": "markdown",
   "metadata": {
    "slideshow": {
     "slide_type": "-"
    }
   },
   "source": [
    "# Aufgaben\n",
    "\n",
    "- Impotiere Daten des Wellenfrontfehlers für das 0 und 10 Grad Feld\n",
    "- Image Demo Beispiel anschauen\n",
    "- Bilder des Wellenfrontfehlers darstellen (Achsenbeschriftung nicht vergessen) und Speichern\n",
    "- Reihenentwicklung als Funktion definieren, Querschnitte darstellen und mit Daten vergleichen"
   ]
  },
  {
   "cell_type": "markdown",
   "metadata": {
    "slideshow": {
     "slide_type": "-"
    }
   },
   "source": [
    "\n",
    "\n",
    "## Inhalt\n",
    "\n",
    "### 1. [Einleitung](#Einleitung)\n",
    "\n",
    "### 2. [Öffnen der .txt Dateien](#open_files)\n",
    "\n",
    "### 3. [Darstellung des Wellenfrontfehlers](#image)\n",
    "\n",
    "### 4. [Reihenentwicklung](#wavefrontexpansion)\n"
   ]
  },
  {
   "cell_type": "markdown",
   "metadata": {},
   "source": [
    "## 1. Einleitung <a name=\"Einleitung\"></a>\n",
    "\n",
    "Im Folgenden sollen die aufgenommenen Wellenfrontfehler, die im .txt Format gespeichtert wurden, in dieses jupyter-notebook geladen und anschließend als Abbildung gespeichert werden. Um mit den Daten zu arbeiten, wird die Progammiersprache [python](https://www.python.org/) verwendet. Für die Darstellung benutzen wir die Bibliothek Matplotlib. Numpy ist eine Bibliothek, die Operationen mit multi-dimensionalen arrays, sowie Matrizen erlaubt.\n",
    "\n",
    "\n",
    "- wichtige Bibliotheken für python: \n",
    "    - [Numpy](https://www.numpy.org/)\n",
    "    - [Scipy](https://www.scipy.org/)\n",
    "    - [Matplotlib](https://matplotlib.org/)"
   ]
  },
  {
   "cell_type": "markdown",
   "metadata": {},
   "source": [
    "## 2. Öffnen der .txt Dateien <a name=\"open_files\"></a>"
   ]
  },
  {
   "cell_type": "markdown",
   "metadata": {},
   "source": [
    "- txt Datein des Wellenfrontfehlers sollten im ascii Format gespeichert sein\n",
    "- zum Laden der Daten in ein numpy array benutzten wir die ```loadtxt``` Funktion aus der numpy Bibliothek\n",
    "- die numpy Bibliothek wird über `import numpy as np` importiert\n",
    "- für Kommandos auf dem Betriebssystem verwenden wir das [os-module](https://docs.python.org/2/library/os.html)"
   ]
  },
  {
   "cell_type": "code",
   "execution_count": null,
   "metadata": {},
   "outputs": [],
   "source": [
    "import numpy as np # import statement\n",
    "import os # os module\n",
    "cwd = os.getcwd() ## get the current working directory\n",
    "zero_deg_array = np.loadtxt(os.path.join(cwd,\n",
    "                                         'textfiles', \n",
    "                                         'wavefront_0_deg_ascii.txt')) # loadtxt funtion, with path to the txt file \n"
   ]
  },
  {
   "cell_type": "code",
   "execution_count": null,
   "metadata": {},
   "outputs": [],
   "source": [
    "zero_deg_array # wavefront error for the zero degree field"
   ]
  },
  {
   "cell_type": "markdown",
   "metadata": {},
   "source": [
    "## 3.  Darstellung des Wellenfrontfehlers <a name=\"image\"></a>"
   ]
  },
  {
   "cell_type": "markdown",
   "metadata": {},
   "source": [
    "Der Werte des Wellenfrontfehlers sind nun unter der Variablen `zero_deg_array` aufrufbar. Mithilfe des unten angebenen Beispiels, kann nun ein Bild erzeugt werden. Ersetze dazu die Variable `Z` mit `zero_deg_array` in `ax.imshow`. "
   ]
  },
  {
   "cell_type": "code",
   "execution_count": null,
   "metadata": {},
   "outputs": [],
   "source": [
    "figure_folder = \"pictures\" # folder path for picture\n",
    "figure_filename = \"example.png\" # !change figure file name for your wavefront map!"
   ]
  },
  {
   "cell_type": "markdown",
   "metadata": {},
   "source": [
    "### Example: [Image Demo](https://matplotlib.org/gallery/images_contours_and_fields/image_demo.html)\n",
    "\n",
    "- Note: Use `%matplotlib inline first\n"
   ]
  },
  {
   "cell_type": "code",
   "execution_count": null,
   "metadata": {
    "scrolled": true
   },
   "outputs": [],
   "source": [
    "%matplotlib inline\n",
    "import numpy as np\n",
    "import matplotlib.cm as cm\n",
    "import matplotlib.pyplot as plt\n",
    "\n",
    "delta = 0.025\n",
    "x = y = np.linspace(1.0, -1.0, zero_deg_array.shape[0]) # x and y coordinates\n",
    "X, Y = np.meshgrid(x, y) # \n",
    "Z1 = np.exp(-X**2 - Y**2) # Gaussian dummy function 1\n",
    "Z2 = np.exp(-(X - 1)**2 - (Y - 1)**2) # Gaussian dummy function 2\n",
    "Z = (Z1 - Z2) * 2 # final function to show \n",
    "\n",
    "fig, ax = plt.subplots()\n",
    "im = ax.imshow(Z, interpolation='bilinear', cmap=cm.RdYlGn,\n",
    "               origin='lower', extent=[-1, 1, -1, 1])\n",
    "plt.colorbar(im)\n",
    "# look in matplotlib examples to add x-and y-labels!\n",
    "plt.savefig(os.path.join(cwd, figure_folder, figure_filename), \n",
    "            format='png') # savefig saves the image in the pictures folder\n",
    "\n",
    "plt.show()\n",
    "print(\"Figure saved in {0:20s}\".format(os.path.join(cwd, figure_folder, figure_filename)))"
   ]
  },
  {
   "cell_type": "markdown",
   "metadata": {},
   "source": [
    "## 4. Reihenentwicklung <a name=\"wavefrontexpansion\"></a>"
   ]
  },
  {
   "cell_type": "code",
   "execution_count": null,
   "metadata": {},
   "outputs": [],
   "source": [
    "def wavefront_on_axis(w000, w020, w040, pupil_sampling=128):\n",
    "    \"\"\"\n",
    "    wavefront expansion for the on axis field\n",
    "    \n",
    "    Parameters\n",
    "    ----------\n",
    "    w000 : float\n",
    "        Piston\n",
    "    w020 : float\n",
    "        Focus\n",
    "    w040 : float\n",
    "        spherical Aberration\n",
    "    pupil_sampling : int\n",
    "        grid size of the sampled pupil \n",
    "    \n",
    "    Returns\n",
    "    -------\n",
    "    wavefront error for the on axis field, up to 4th order\n",
    "    \"\"\"\n",
    "    x = np.linspace(1, -1, pupil_sampling)\n",
    "    y = np.linspace(1, -1, pupil_sampling)\n",
    "    X, Y = np.meshgrid(x, y)\n",
    "    \n",
    "    return w000 + w020 * (X**2 + Y**2) + w040 * (X**2 + Y**2)**2\n",
    "    \n",
    "    "
   ]
  },
  {
   "cell_type": "code",
   "execution_count": null,
   "metadata": {},
   "outputs": [],
   "source": [
    "# w_0 = wavefront_on_axis()"
   ]
  },
  {
   "cell_type": "code",
   "execution_count": null,
   "metadata": {},
   "outputs": [],
   "source": [
    "%matplotlib inline\n",
    "#print(\"cross section at y={0:2.2f}\".format(y[ w_0.shape[0]//2]))\n",
    "#plt.figure()\n",
    "#plt.plot(x, w_0[:, w_0.shape[0]//2])\n",
    "#plt.plot(x, zero_deg_array[:, w_0.shape[0]//2], '--')\n",
    "#plt.xlabel('$x_p$')\n",
    "#plt.ylabel('$W_0$ in $\\lambda$')\n",
    "#plt.show()\n",
    "# cross section at position x, y=..\n",
    "#sclice = 30\n",
    "#print(\"cross section at y={0:2.2f}\".format(y[ w_0.shape[0]//2 + sclice]))\n",
    "#plt.figure()\n",
    "#plt.plot(x, w_0[:, w_0.shape[0]//2 + sclice])\n",
    "#plt.plot(x, zero_deg_array[:, w_0.shape[0]//2 + sclice], '--')\n",
    "#plt.xlabel('$x_p$')\n",
    "#plt.ylabel('$W_0$ in $\\lambda$')\n",
    "#plt.show()"
   ]
  },
  {
   "cell_type": "code",
   "execution_count": null,
   "metadata": {},
   "outputs": [],
   "source": [
    "def wavefront_pupil_edge(w000, w111, w020, w040, w131, w222, w311, w220, pupil_sampling=128):\n",
    "    \"\"\"\n",
    "    wavefront expansion at the edge of the pupil\n",
    "    \n",
    "    Parameters\n",
    "    ----------\n",
    "    w000 : float\n",
    "        Piston\n",
    "    w111 : float\n",
    "        Tilt\n",
    "    w020 : float\n",
    "        Focus\n",
    "    w040 : float\n",
    "        spherical Aberration\n",
    "    w131 : float\n",
    "        Coma\n",
    "    w222 : float\n",
    "        Astigmatismus\n",
    "    w311 : float\n",
    "        Distortion\n",
    "    w220 : float\n",
    "        Field Curvature\n",
    "    pupil_sampling :int\n",
    "    \n",
    "    \n",
    "    Returns\n",
    "    -------\n",
    "    wavefront error for the pupil edge, up to 4th order\n",
    "    \n",
    "    \"\"\"\n",
    "    x = np.linspace(1, -1, pupil_sampling)\n",
    "    y = np.linspace(1, -1, pupil_sampling)\n",
    "    X, Y = np.meshgrid(x, y)\n",
    "    \n",
    "    return \n",
    "    "
   ]
  },
  {
   "cell_type": "code",
   "execution_count": null,
   "metadata": {},
   "outputs": [],
   "source": [
    "# w_10 = wavefront_pupil_edge()"
   ]
  },
  {
   "cell_type": "code",
   "execution_count": null,
   "metadata": {},
   "outputs": [],
   "source": [
    "ten_deg_array = np.loadtxt(os.path.join(cwd, 'textfiles', \n",
    "                                        'wavefront_10_deg_ascii.txt')) # loadtxt funtion, with path to the txt file "
   ]
  }
 ],
 "metadata": {
  "kernelspec": {
   "display_name": "Python 3",
   "language": "python",
   "name": "python3"
  },
  "language_info": {
   "codemirror_mode": {
    "name": "ipython",
    "version": 3
   },
   "file_extension": ".py",
   "mimetype": "text/x-python",
   "name": "python",
   "nbconvert_exporter": "python",
   "pygments_lexer": "ipython3",
   "version": "3.6.4"
  }
 },
 "nbformat": 4,
 "nbformat_minor": 2
}
