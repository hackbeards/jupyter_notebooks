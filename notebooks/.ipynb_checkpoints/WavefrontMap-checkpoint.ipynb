{
 "cells": [
  {
   "cell_type": "markdown",
   "metadata": {
    "slideshow": {
     "slide_type": "-"
    }
   },
   "source": [
    "# Tasks\n",
    "\n",
    "- Impotiere Daten des Wellenfrontfehlers für das 0 und 10 Grad Feld\n",
    "- Image Demo Beispiel anschauen\n",
    "- Bilder des Wellenfrontfehlers darstellen (Achsenbeschriftung nicht vergessen) und Speichern"
   ]
  },
  {
   "cell_type": "markdown",
   "metadata": {
    "slideshow": {
     "slide_type": "-"
    }
   },
   "source": [
    "\n",
    "\n",
    "## Table of contents\n",
    "\n",
    "### 1. [Einleitung](#Einleitung)\n",
    "\n",
    "### 2. [Öffnen der .txt Dateien](#open_files)\n",
    "\n",
    "### 3. [Visualizing Data](#visulize_data)\n"
   ]
  },
  {
   "cell_type": "markdown",
   "metadata": {},
   "source": [
    "## 1. Einleitung <a name=\"Einleitung\"></a>\n",
    "\n",
    "Im Folgenden sollen die aufgenommenen Wellenfrontfehler, die im .txt Format gespeichtert wurden, in dieses jupyter-notebook geladen und anschließend als Abbildung gespeichert werden. Um mit den Daten zu arbeiten, wird die Progammiersprache [python](https://www.python.org/) verwendet. Für die Darstellung benutzen wir die Bibliothek Matplotlib. Numpy ist eine Bibliothek, die Operationen mit multi dimensionalen arrays, sowie Matrizen erlaubt.\n",
    "\n",
    "\n",
    "- wichtige Bibliotheken für python: \n",
    "    - [Numpy](https://www.numpy.org/)\n",
    "    - [Scipy](https://www.scipy.org/)\n",
    "    - [Matplotlib](https://matplotlib.org/)"
   ]
  },
  {
   "cell_type": "markdown",
   "metadata": {},
   "source": [
    "## 2. Öffnen der .txt Dateien <a name=\"open_files\"></a>"
   ]
  },
  {
   "cell_type": "markdown",
   "metadata": {},
   "source": [
    "- To load the wave front data into a numpy array, we can use the ```loadtxt``` function from the numpy library\n",
    "- To have accces to the numpy library, we need to import numpy to the jupyter-notebook, `import numpy as np`"
   ]
  },
  {
   "cell_type": "code",
   "execution_count": null,
   "metadata": {},
   "outputs": [],
   "source": [
    "import numpy as np\n",
    "zero_deg_array = np.loadtxt(os.path.join(cwd, 'textfiles', '0_deg_wavefront.txt'))\n"
   ]
  },
  {
   "cell_type": "code",
   "execution_count": null,
   "metadata": {},
   "outputs": [],
   "source": [
    "zero_deg_array"
   ]
  },
  {
   "cell_type": "markdown",
   "metadata": {},
   "source": [
    "## 3.  Visualizing Data<a name=\"visulize_data\"></a>"
   ]
  },
  {
   "cell_type": "markdown",
   "metadata": {},
   "source": [
    "### Example: [Image Demo](https://matplotlib.org/gallery/images_contours_and_fields/image_demo.html)\n",
    "\n",
    "- Note: Use `%matplotlib inline first\n",
    "\n",
    "\n"
   ]
  },
  {
   "cell_type": "code",
   "execution_count": null,
   "metadata": {},
   "outputs": [],
   "source": [
    "%matplotlib inline\n",
    "import numpy as np\n",
    "import matplotlib.cm as cm\n",
    "import matplotlib.pyplot as plt\n",
    "import matplotlib.cbook as cbook\n",
    "from matplotlib.path import Path\n",
    "from matplotlib.patches import PathPatch\n",
    "delta = 0.025\n",
    "x = y = np.linspace(-1.0, 1.0, 128) # x and y coordinates\n",
    "X, Y = np.meshgrid(x, y) # \n",
    "Z1 = np.exp(-X**2 - Y**2) # Gaussian dummy function 1\n",
    "Z2 = np.exp(-(X - 1)**2 - (Y - 1)**2) # Gaussian dummy function 2\n",
    "Z = (Z1 - Z2) * 2 # final function to show \n",
    "\n",
    "fig, ax = plt.subplots()\n",
    "im = ax.imshow(Z, interpolation='bilinear', cmap=cm.RdYlGn,\n",
    "               origin='lower', extent=[-1, 1, -1, 1])\n",
    "plt.colorbar(im)\n",
    "# look in matplotlib examples to add x-and y-labels!\n",
    "plt.savefig(os.path.join(cwd, 'pictures','example.png'), \n",
    "            format='png') # savefig saves the image in the pictures folder\n",
    "\n",
    "plt.show()\n"
   ]
  },
  {
   "cell_type": "code",
   "execution_count": null,
   "metadata": {},
   "outputs": [],
   "source": []
  }
 ],
 "metadata": {
  "kernelspec": {
   "display_name": "Python 3",
   "language": "python",
   "name": "python3"
  },
  "language_info": {
   "codemirror_mode": {
    "name": "ipython",
    "version": 3
   },
   "file_extension": ".py",
   "mimetype": "text/x-python",
   "name": "python",
   "nbconvert_exporter": "python",
   "pygments_lexer": "ipython3",
   "version": "3.6.8"
  }
 },
 "nbformat": 4,
 "nbformat_minor": 2
}
